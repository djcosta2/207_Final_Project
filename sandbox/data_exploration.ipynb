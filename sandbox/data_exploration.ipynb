{
 "cells": [
  {
   "cell_type": "code",
   "execution_count": 18,
   "metadata": {},
   "outputs": [],
   "source": [
    "import kagglehub\n",
    "import os"
   ]
  },
  {
   "cell_type": "code",
   "execution_count": 6,
   "metadata": {},
   "outputs": [],
   "source": [
    "# Download latest version\n",
    "path = kagglehub.dataset_download(\"jehanbhathena/weather-dataset\")\n",
    "# Unpack dataset\n",
    "dataset_path = os.path.join(path, \"dataset\")\n",
    "\n",
    "# Move to repo Data folder\n",
    "!mv {dataset_path} ../Data\n",
    "# Rename folder\n",
    "!mv ../Data/dataset ../Data/Weather_Dataset"
   ]
  },
  {
   "cell_type": "code",
   "execution_count": null,
   "metadata": {},
   "outputs": [],
   "source": [
    "# Add/commit/push weather dataset to git in batches\n",
    "\n",
    "weather_dataset_path = \"../Data/Weather_Dataset\"\n",
    "class_directories = os.listdir(weather_dataset_path)\n",
    "for class_directory in class_directories:\n",
    "    print(f\"Adding class directory: {class_directory}\")\n",
    "    !git add {weather_dataset_path}/{class_directory}\n",
    "    !git commit -m \"Added {class_directory} class directory\"\n",
    "    !git push origin main"
   ]
  }
 ],
 "metadata": {
  "kernelspec": {
   "display_name": "207_Final_Project",
   "language": "python",
   "name": "python3"
  },
  "language_info": {
   "codemirror_mode": {
    "name": "ipython",
    "version": 3
   },
   "file_extension": ".py",
   "mimetype": "text/x-python",
   "name": "python",
   "nbconvert_exporter": "python",
   "pygments_lexer": "ipython3",
   "version": "3.11.11"
  }
 },
 "nbformat": 4,
 "nbformat_minor": 2
}
