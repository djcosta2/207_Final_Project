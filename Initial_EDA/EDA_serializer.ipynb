{
 "cells": [
  {
   "cell_type": "code",
   "execution_count": 20,
   "metadata": {},
   "outputs": [],
   "source": [
    "import numpy as np\n",
    "import pandas as pd\n",
    "import sys\n",
    "import os\n",
    "import json\n",
    "import tensorflow as tf"
   ]
  },
  {
   "cell_type": "markdown",
   "metadata": {},
   "source": [
    "### Load Data"
   ]
  },
  {
   "cell_type": "code",
   "execution_count": 39,
   "metadata": {},
   "outputs": [],
   "source": [
    "HOME = os.getcwd()\n",
    "IMAGE_DATA_PATH = f\"{HOME}/Data/Weather_Dataset\"\n",
    "IMAGE_TENSOR_PATH = f\"{HOME}/Data/Image_Tensors\"\n",
    "\n",
    "def load_jpg_to_tensor(image_filepath):\n",
    "    \"\"\"\n",
    "    Reads a JPG image and converts it to a TensorFlow tensor.\n",
    "\n",
    "    Args:\n",
    "        image_path (str): Path to the JPG image file, relative to IMAGE_DATA_PATH\n",
    "\n",
    "    Returns:\n",
    "        A TensorFlow tensor representing the image.\n",
    "    \"\"\"\n",
    "    # Read the image file\n",
    "    absolute_image_filepath = os.sep.join((IMAGE_DATA_PATH, image_filepath))\n",
    "    image_string = tf.io.read_file(absolute_image_filepath)\n",
    "    \n",
    "    # Decode the JPG image to a tensor\n",
    "    try:\n",
    "        image_tensor = tf.image.decode_image(image_string, channels=3) \n",
    "    except tf.errors.InvalidArgumentError:\n",
    "        print(f\"Invalid image file: {absolute_image_filepath}\")\n",
    "        return None\n",
    "    \n",
    "    return image_tensor\n",
    "\n",
    "def serialize_image_tensor(image_filepath):\n",
    "    \"\"\"\n",
    "    Converts image to tensor, serializes tensor, and saves it to a binary file.\n",
    "\n",
    "    Args:\n",
    "        image_filenpath (str): Path to the JPG image file, relative to IMAGE_DATA_PATH\n",
    "    \"\"\"\n",
    "    tensor = load_jpg_to_tensor(image_filepath)\n",
    "    if tensor.ndim == 4:\n",
    "        # get list of tensors from GIF\n",
    "        tensors = [tensor for tensor in tensor]\n",
    "    else:\n",
    "        tensors = [tensor]\n",
    "\n",
    "    for i, tensor in enumerate(tensors):\n",
    "        \n",
    "        serialized_tensor = tf.io.serialize_tensor(tensor)\n",
    "\n",
    "        image_filepath_no_ext = image_filepath.split(\".\")[0]\n",
    "        if len(tensors) > 1:\n",
    "            image_filepath_no_ext = f\"{image_filepath_no_ext}_{i+1}\"\n",
    "\n",
    "        serialized_tensor_filepath = os.sep.join((IMAGE_TENSOR_PATH, f\"{image_filepath_no_ext}.bin\"))\n",
    "\n",
    "        with open(serialized_tensor_filepath, \"wb\") as f:\n",
    "            f.write(serialized_tensor.numpy())\n",
    "\n",
    "    return None\n",
    "\n",
    "def deserialize_image_tensor(image_filepath):\n",
    "    \"\"\"\n",
    "    Reads serialized tensor binary file associated with image,\n",
    "    deserializes the tensor, and returns it.\n",
    "\n",
    "    Args:\n",
    "        image_filepath (str): Path to the JPG image file, relative to IMAGE_DATA_PATH\n",
    "\n",
    "    Returns:\n",
    "        tf.Tensor: Original Image Tensor\n",
    "    \"\"\"\n",
    "    image_filepath_no_ext = image_filepath.split(\".\")[0]\n",
    "    serialized_tensor_filepath = os.sep.join((IMAGE_TENSOR_PATH, f\"{image_filepath_no_ext}.bin\"))\n",
    "\n",
    "    with open(serialized_tensor_filepath, \"rb\") as f:\n",
    "        deserialized_tensor = tf.io.parse_tensor(f.read(), out_type=tf.uint8)\n",
    "        \n",
    "    return deserialized_tensor"
   ]
  },
  {
   "cell_type": "code",
   "execution_count": 42,
   "metadata": {},
   "outputs": [
    {
     "name": "stderr",
     "output_type": "stream",
     "text": [
      "2025-02-12 09:51:00.994053: W tensorflow/core/lib/png/png_io.cc:89] PNG warning: iCCP: known incorrect sRGB profile\n",
      "2025-02-12 09:51:01.206640: W tensorflow/core/lib/png/png_io.cc:89] PNG warning: iCCP: known incorrect sRGB profile\n",
      "2025-02-12 09:51:05.306640: W tensorflow/core/lib/png/png_io.cc:89] PNG warning: iCCP: known incorrect sRGB profile\n"
     ]
    }
   ],
   "source": [
    "def serialize_dataset():\n",
    "    \"\"\"\n",
    "    Serializes all images in the dataset and saves them to binary files.\n",
    "    \"\"\"\n",
    "    if not os.path.exists(IMAGE_TENSOR_PATH):\n",
    "        os.makedirs(IMAGE_TENSOR_PATH)\n",
    "\n",
    "    for dirpath, dirnames, filenames in os.walk(IMAGE_DATA_PATH):\n",
    "        for dirname in dirnames:\n",
    "            class_path = os.path.join(dirpath, dirname)\n",
    "            class_tensor_path = os.path.join(IMAGE_TENSOR_PATH, dirname)\n",
    "            if not os.path.exists(class_tensor_path):\n",
    "                os.makedirs(class_path)\n",
    "            for class_dirpath, class_dirnames, class_filenames in os.walk(class_path):\n",
    "                for class_filename in class_filenames:\n",
    "                    if class_filename.endswith('.jpg'):\n",
    "                        jpg_file_path = os.path.join(dirname, class_filename)\n",
    "                        serialize_image_tensor(jpg_file_path)\n",
    "    return None\n",
    "                    \n",
    "serialize_dataset()                      "
   ]
  },
  {
   "cell_type": "code",
   "execution_count": null,
   "metadata": {},
   "outputs": [
    {
     "name": "stdout",
     "output_type": "stream",
     "text": [
      "Deleted 0 images.\n"
     ]
    }
   ],
   "source": []
  },
  {
   "cell_type": "code",
   "execution_count": null,
   "metadata": {},
   "outputs": [],
   "source": []
  }
 ],
 "metadata": {
  "kernelspec": {
   "display_name": "207_Final_Project",
   "language": "python",
   "name": "python3"
  },
  "language_info": {
   "codemirror_mode": {
    "name": "ipython",
    "version": 3
   },
   "file_extension": ".py",
   "mimetype": "text/x-python",
   "name": "python",
   "nbconvert_exporter": "python",
   "pygments_lexer": "ipython3",
   "version": "3.11.11"
  }
 },
 "nbformat": 4,
 "nbformat_minor": 2
}
