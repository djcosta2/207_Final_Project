{
 "cells": [
  {
   "cell_type": "code",
   "execution_count": 33,
   "metadata": {},
   "outputs": [],
   "source": [
    "import numpy as np\n",
    "import os\n",
    "import tensorflow as tf\n",
    "import json\n",
    "from sklearn.model_selection import StratifiedKFold"
   ]
  },
  {
   "cell_type": "code",
   "execution_count": 30,
   "metadata": {},
   "outputs": [
    {
     "name": "stdout",
     "output_type": "stream",
     "text": [
      "Found 6604 files belonging to 11 classes.\n"
     ]
    }
   ],
   "source": [
    "HOME = os.getcwd()\n",
    "DATASET_PATH = os.path.join(HOME, \"Data\", \"Weather_Dataset\")\n",
    "dataset = tf.keras.utils.image_dataset_from_directory(\n",
    "    DATASET_PATH,\n",
    "    labels=\"inferred\",\n",
    "    label_mode=\"int\",\n",
    "    image_size=(224, 224),\n",
    "    batch_size=32,\n",
    "    shuffle=False  # Important for consistent KFold splitting\n",
    ")"
   ]
  },
  {
   "cell_type": "code",
   "execution_count": 31,
   "metadata": {},
   "outputs": [
    {
     "name": "stderr",
     "output_type": "stream",
     "text": [
      "2025-03-06 15:09:26.989044: I tensorflow/core/framework/local_rendezvous.cc:405] Local rendezvous is aborting with status: OUT_OF_RANGE: End of sequence\n"
     ]
    }
   ],
   "source": [
    "# Extract images and labels\n",
    "images = []\n",
    "labels = []\n",
    "for batch in dataset:\n",
    "    x, y = batch\n",
    "    images.append(x)\n",
    "    labels.append(y)\n",
    "\n",
    "# Concatenate batches into full arrays\n",
    "X = tf.concat(images, axis=0)\n",
    "y = tf.concat(labels, axis=0)\n",
    "#y = np.argmax(y, axis=1)\n",
    "\n",
    "# Define KFold\n"
   ]
  },
  {
   "cell_type": "code",
   "execution_count": 35,
   "metadata": {},
   "outputs": [],
   "source": [
    "skf = StratifiedKFold(n_splits=5, shuffle=True, random_state=1234)\n",
    "skf.get_n_splits(X, y)\n",
    "folds = {\"folds\": []}\n",
    "for i, (train_index, test_index) in enumerate(skf.split(X, y)):\n",
    "    fold = {\n",
    "        \"fold\": i,\n",
    "        \"train\": train_index.tolist(),\n",
    "        \"test\": test_index.tolist()\n",
    "    }\n",
    "    folds[\"folds\"].append(fold)\n",
    "\n",
    "# Save folds\n",
    "with open(os.path.join(HOME, \"Data\", \"folds.json\"), \"w\") as f:\n",
    "    json.dump(folds, f)"
   ]
  },
  {
   "cell_type": "code",
   "execution_count": 36,
   "metadata": {},
   "outputs": [],
   "source": [
    "f = folds['folds']"
   ]
  },
  {
   "cell_type": "code",
   "execution_count": 38,
   "metadata": {},
   "outputs": [
    {
     "data": {
      "text/plain": [
       "<tf.Tensor: shape=(6604,), dtype=int32, numpy=array([ 0,  0,  0, ..., 10, 10, 10], dtype=int32)>"
      ]
     },
     "execution_count": 38,
     "metadata": {},
     "output_type": "execute_result"
    }
   ],
   "source": []
  },
  {
   "cell_type": "code",
   "execution_count": null,
   "metadata": {},
   "outputs": [],
   "source": []
  }
 ],
 "metadata": {
  "kernelspec": {
   "display_name": "Python 3.11 (207_Final_Project)(clean)",
   "language": "python",
   "name": "207_final_project"
  },
  "language_info": {
   "codemirror_mode": {
    "name": "ipython",
    "version": 3
   },
   "file_extension": ".py",
   "mimetype": "text/x-python",
   "name": "python",
   "nbconvert_exporter": "python",
   "pygments_lexer": "ipython3",
   "version": "3.11.11"
  }
 },
 "nbformat": 4,
 "nbformat_minor": 2
}
