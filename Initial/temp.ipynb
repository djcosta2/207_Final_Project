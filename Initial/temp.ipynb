{
 "cells": [
  {
   "cell_type": "code",
   "execution_count": 37,
   "metadata": {},
   "outputs": [],
   "source": [
    "import numpy as np\n",
    "import pandas as pd\n",
    "import os\n",
    "import tensorflow as tf"
   ]
  },
  {
   "cell_type": "code",
   "execution_count": 43,
   "metadata": {},
   "outputs": [],
   "source": [
    "HOME = os.getcwd()\n",
    "IMAGE_DATA_PATH = f\"{HOME}/Data/Weather_Dataset\"\n",
    "IMAGE_TENSOR_PATH = f\"{HOME}/Data/Image_Tensors\"\n",
    "\n",
    "def load_jpg_to_tensor(image_filepath):\n",
    "    \"\"\"\n",
    "    Reads a JPG image and converts it to a TensorFlow tensor.\n",
    "\n",
    "    Args:\n",
    "        image_path (str): Path to the JPG image file, relative to IMAGE_DATA_PATH\n",
    "\n",
    "    Returns:\n",
    "        A TensorFlow tensor representing the image.\n",
    "    \"\"\"\n",
    "    # Read the image file\n",
    "    absolute_image_filepath = os.sep.join((IMAGE_DATA_PATH, image_filepath))\n",
    "    image_string = tf.io.read_file(absolute_image_filepath)\n",
    "    \n",
    "    # Decode the JPG image to a tensor\n",
    "    image_tensor = tf.image.decode_jpeg(image_string, channels=3) \n",
    "    \n",
    "    return image_tensor\n",
    "\n",
    "def serialize_image_tensor(image_filepath):\n",
    "    \"\"\"\n",
    "    Converts image to tensor, serializes tensor, and saves it to a binary file.\n",
    "\n",
    "    Args:\n",
    "        image_filenpath (str): Path to the JPG image file, relative to IMAGE_DATA_PATH\n",
    "    \"\"\"\n",
    "    tensor = load_jpg_to_tensor(image_filepath)\n",
    "    serialized_tensor = tf.io.serialize_tensor(tensor)\n",
    "\n",
    "    image_filepath_no_ext = image_filepath.split(\".\")[0]\n",
    "    serialized_tensor_filepath = os.sep.join((IMAGE_TENSOR_PATH, f\"{image_filepath_no_ext}.bin\"))\n",
    "\n",
    "    directory = os.path.dirname(serialized_tensor_filepath) \n",
    "\n",
    "    # Ensure the directory exists\n",
    "    if directory and not os.path.exists(directory):\n",
    "        os.makedirs(directory)\n",
    "\n",
    "    with open(serialized_tensor_filepath, \"wb\") as f:\n",
    "        f.write(serialized_tensor.numpy())\n",
    "\n",
    "    return None\n",
    "\n",
    "def deserialize_image_tensor(image_filepath):\n",
    "    \"\"\"\n",
    "    Reads serialized tensor binary file associated with image,\n",
    "    deserializes the tensor, and returns it.\n",
    "\n",
    "    Args:\n",
    "        image_filepath (str): Path to the JPG image file, relative to IMAGE_DATA_PATH\n",
    "\n",
    "    Returns:\n",
    "        tf.Tensor: Original Image Tensor\n",
    "    \"\"\"\n",
    "    image_filepath_no_ext = image_filepath.split(\".\")[0]\n",
    "    serialized_tensor_filepath = os.sep.join((IMAGE_TENSOR_PATH, f\"{image_filepath_no_ext}.bin\"))\n",
    "    with open(serialized_tensor_filepath, \"rb\") as f:\n",
    "        deserialized_tensor = tf.io.parse_tensor(f.read(), out_type=tf.uint8)\n",
    "    return deserialized_tensor"
   ]
  },
  {
   "cell_type": "markdown",
   "metadata": {},
   "source": [
    "### Verify serialization produces equivalent tensors"
   ]
  },
  {
   "cell_type": "code",
   "execution_count": null,
   "metadata": {},
   "outputs": [
    {
     "name": "stdout",
     "output_type": "stream",
     "text": [
      "tf.Tensor(True, shape=(), dtype=bool)\n"
     ]
    }
   ],
   "source": [
    "import tensorflow as tf\n",
    "\n",
    "image_filepath = \"dew/2208.jpg\"\n",
    "\n",
    "# Create a sample tensor\n",
    "original_tensor = load_jpg_to_tensor(image_filepath)\n",
    "\n",
    "# Serialize the tensor using tf.io.serialize_tensor\n",
    "serialize_image_tensor(image_filepath)\n",
    "\n",
    "# To deserialize the tensor back to its original form, use tf.io.parse_tensor\n",
    "deserialized_image_tensor = deserialize_image_tensor(image_filepath)    \n",
    "\n",
    "# Verify that the deserialized tensor is the same as the original tensor\n",
    "print(tf.reduce_all(tf.equal(original_tensor, deserialized_image_tensor)))"
   ]
  }
 ],
 "metadata": {
  "kernelspec": {
   "display_name": "207_Final_Project",
   "language": "python",
   "name": "python3"
  },
  "language_info": {
   "codemirror_mode": {
    "name": "ipython",
    "version": 3
   },
   "file_extension": ".py",
   "mimetype": "text/x-python",
   "name": "python",
   "nbconvert_exporter": "python",
   "pygments_lexer": "ipython3",
   "version": "3.11.11"
  }
 },
 "nbformat": 4,
 "nbformat_minor": 2
}
