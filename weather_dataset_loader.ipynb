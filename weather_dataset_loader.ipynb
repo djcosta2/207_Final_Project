{
 "cells": [
  {
   "cell_type": "markdown",
   "metadata": {},
   "source": [
    "### Imports"
   ]
  },
  {
   "cell_type": "code",
   "execution_count": 3,
   "metadata": {},
   "outputs": [],
   "source": [
    "import kagglehub\n",
    "import os"
   ]
  },
  {
   "cell_type": "code",
   "execution_count": 9,
   "metadata": {},
   "outputs": [
    {
     "data": {
      "text/plain": [
       "'/Users/danielcosta/.cache/kagglehub/datasets/jehanbhathena/weather-dataset/versions/3'"
      ]
     },
     "execution_count": 9,
     "metadata": {},
     "output_type": "execute_result"
    }
   ],
   "source": [
    "path"
   ]
  },
  {
   "cell_type": "code",
   "execution_count": null,
   "metadata": {},
   "outputs": [],
   "source": []
  },
  {
   "cell_type": "markdown",
   "metadata": {},
   "source": [
    "### Download"
   ]
  },
  {
   "cell_type": "code",
   "execution_count": 6,
   "metadata": {},
   "outputs": [],
   "source": [
    "# Download latest version\n",
    "path = kagglehub.dataset_download(\"jehanbhathena/weather-dataset\")\n",
    "# Unpack dataset\n",
    "dataset_path = os.path.join(path, \"dataset\")"
   ]
  },
  {
   "cell_type": "code",
   "execution_count": 8,
   "metadata": {},
   "outputs": [
    {
     "name": "stdout",
     "output_type": "stream",
     "text": [
      "mv: rename /Users/danielcosta/.cache/kagglehub/datasets/jehanbhathena/weather-dataset/versions/3/dataset to Data_Backup: No such file or directory\n",
      "mv: rename Data_Backup/dataset to Data_Backup/Weather_Dataset: No such file or directory\n"
     ]
    }
   ],
   "source": [
    "# Move to repo Data folder\n",
    "!mv {dataset_path} Data_Backup\n",
    "# Rename folder\n",
    "!mv Data_Backup/dataset Data_Backup/Weather_Dataset"
   ]
  },
  {
   "cell_type": "markdown",
   "metadata": {},
   "source": [
    "### Upload"
   ]
  },
  {
   "cell_type": "code",
   "execution_count": null,
   "metadata": {},
   "outputs": [],
   "source": [
    "# Add/commit/push weather dataset to git in batches\n",
    "\n",
    "weather_dataset_path = \"../Data_Backup/Weather_Dataset\"\n",
    "class_directories = os.listdir(weather_dataset_path)\n",
    "for class_directory in class_directories:\n",
    "    print(f\"Adding class directory: {class_directory}\")\n",
    "    !git add {weather_dataset_path}/{class_directory}\n",
    "    !git commit -m \"Added {class_directory} class directory\"\n",
    "    !git push origin main"
   ]
  }
 ],
 "metadata": {
  "kernelspec": {
   "display_name": "Python 3.11 (207_Final_Project)(clean)",
   "language": "python",
   "name": "207_final_project"
  },
  "language_info": {
   "codemirror_mode": {
    "name": "ipython",
    "version": 3
   },
   "file_extension": ".py",
   "mimetype": "text/x-python",
   "name": "python",
   "nbconvert_exporter": "python",
   "pygments_lexer": "ipython3",
   "version": "3.11.11"
  }
 },
 "nbformat": 4,
 "nbformat_minor": 2
}
